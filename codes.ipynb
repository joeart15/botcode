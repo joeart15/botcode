{
 "cells": [
  {
   "cell_type": "markdown",
   "metadata": {},
   "source": [
    "1. Set Up Cloud9\n",
    "\n",
    "Step 1.1: Create a Cloud9 Environment\n",
    "Log in to your AWS account and navigate to Cloud9 in the AWS Management Console.\n",
    "Click Create Environment.\n",
    "Name your environment (e.g., \"DiscordBotEnv\").\n",
    "Choose Create a new EC2 instance for environment (direct access):\n",
    "Instance type: t2.micro (free tier eligible).\n",
    "Platform: Amazon Linux 2.\n",
    "\n",
    "Click Next and Create Environment.\n",
    "\n",
    "Step 1.2: Access the Cloud9 Environment\n",
    "Once created, your Cloud9 IDE will open in your browser.\n",
    "This is your coding environment directly connected to an EC2 instance."
   ]
  },
  {
   "cell_type": "markdown",
   "metadata": {},
   "source": [
    "2. Set Up the Environment\n",
    "Step 2.1: Update the Environment\n",
    "Open the terminal in Cloud9 and update the system"
   ]
  },
  {
   "cell_type": "code",
   "execution_count": null,
   "metadata": {
    "vscode": {
     "languageId": "powershell"
    }
   },
   "outputs": [],
   "source": [
    "sudo yum update -y"
   ]
  },
  {
   "cell_type": "markdown",
   "metadata": {},
   "source": [
    "Step 2.2: Install Required Libraries\n",
    "Install Python3 and Pip (if not already installed):"
   ]
  },
  {
   "cell_type": "code",
   "execution_count": null,
   "metadata": {
    "vscode": {
     "languageId": "powershell"
    }
   },
   "outputs": [],
   "source": [
    "sudo yum install python3-pip -y"
   ]
  },
  {
   "cell_type": "markdown",
   "metadata": {},
   "source": [
    "Install the necessary Python libraries:"
   ]
  },
  {
   "cell_type": "code",
   "execution_count": null,
   "metadata": {
    "vscode": {
     "languageId": "powershell"
    }
   },
   "outputs": [],
   "source": [
    "pip install discord py-cord ec2-metadata"
   ]
  },
  {
   "cell_type": "markdown",
   "metadata": {},
   "source": [
    "3. Configure the Discord Bot\n",
    "\n",
    "Step 3.1: Register Your Bot\n",
    "Go to the Discord Developer Portal. - https://discord.com/developers/applications \n",
    "Create a new application and add a bot.\n",
    "Copy the bot's token for later use.\n",
    "\n",
    "Step 3.2: Set Up Environment Variables\n",
    "In Cloud9, add the token as an environment variable:"
   ]
  },
  {
   "cell_type": "code",
   "execution_count": null,
   "metadata": {
    "vscode": {
     "languageId": "powershell"
    }
   },
   "outputs": [],
   "source": [
    "echo \"export TOKEN='YOUR_DISCORD_BOT_TOKEN'\" >> ~/.bashrc"
   ]
  },
  {
   "cell_type": "code",
   "execution_count": null,
   "metadata": {
    "vscode": {
     "languageId": "powershell"
    }
   },
   "outputs": [],
   "source": [
    "source ~/.bashrc"
   ]
  },
  {
   "cell_type": "markdown",
   "metadata": {},
   "source": [
    "Verify the token is set:"
   ]
  },
  {
   "cell_type": "code",
   "execution_count": null,
   "metadata": {
    "vscode": {
     "languageId": "powershell"
    }
   },
   "outputs": [],
   "source": [
    "echo $TOKEN"
   ]
  },
  {
   "cell_type": "markdown",
   "metadata": {},
   "source": [
    "4. Write the Python Script\n",
    "\n",
    "Step 4.1: Create the Script\n",
    "In the Cloud9 IDE, create a new file named discord_bot.py.\n",
    "\n",
    "Step 4.2: Add the Code\n",
    "Paste this code:"
   ]
  },
  {
   "cell_type": "code",
   "execution_count": null,
   "metadata": {},
   "outputs": [],
   "source": [
    "import discord\n",
    "from ec2_metadata import ec2_metadata\n",
    "import os\n",
    "\n",
    "# Initialize the bot\n",
    "intents = discord.Intents.default()\n",
    "client = discord.Client(intents=intents)\n",
    "\n",
    "@client.event\n",
    "async def on_ready():\n",
    "    print(f'Logged in as {client.user}')\n",
    "    print(\"Bot is ready and listening for commands.\")\n",
    "\n",
    "@client.event\n",
    "async def on_message(message):\n",
    "    if message.author == client.user:\n",
    "        return  # Ignore messages from the bot itself\n",
    "\n",
    "    try:\n",
    "        # Respond to \"hello world\"\n",
    "        if message.content.lower() == \"hello world\":\n",
    "            await message.channel.send(\"Hello!\")\n",
    "\n",
    "        # Respond to \"tell me about my server!\"\n",
    "        elif message.content.lower() == \"tell me about my server!\":\n",
    "            try:\n",
    "                info = (\n",
    "                    f\"**Server Info:**\\n\"\n",
    "                    f\"- **Public IP:** {ec2_metadata.public_ipv4 or 'Not Available'}\\n\"\n",
    "                    f\"- **Region:** {ec2_metadata.region or 'Not Available'}\\n\"\n",
    "                    f\"- **Availability Zone:** {ec2_metadata.availability_zone or 'Not Available'}\"\n",
    "                )\n",
    "                await message.channel.send(info)\n",
    "            except Exception as e:\n",
    "                await message.channel.send(f\"Error fetching server data: {e}\")\n",
    "\n",
    "        # Default response for unknown commands\n",
    "        else:\n",
    "            await message.channel.send(\"Sorry, I don't understand that command.\")\n",
    "    except Exception as general_error:\n",
    "        await message.channel.send(f\"An error occurred: {general_error}\")\n",
    "\n",
    "# Graceful error handling for connection issues\n",
    "@client.event\n",
    "async def on_error(event, *args, **kwargs):\n",
    "    with open(\"error.log\", \"a\") as log_file:\n",
    "        log_file.write(f\"Error in {event}: {args}\\n\")\n",
    "\n",
    "# Token stored securely in an environment variable\n",
    "token = os.getenv('TOKEN')\n",
    "if not token:\n",
    "    print(\"Error: Discord bot token not found in environment variables.\")\n",
    "else:\n",
    "    client.run(token)\n"
   ]
  },
  {
   "cell_type": "markdown",
   "metadata": {},
   "source": [
    "5. Run and Test the Bot\n",
    "\n",
    "Step 5.1: Run the Script\n",
    "Execute the script in the terminal"
   ]
  },
  {
   "cell_type": "code",
   "execution_count": null,
   "metadata": {
    "vscode": {
     "languageId": "powershell"
    }
   },
   "outputs": [],
   "source": [
    "python3 discord_bot.py"
   ]
  },
  {
   "cell_type": "markdown",
   "metadata": {},
   "source": [
    "Step 5.2: Test in Discord\n",
    "\n",
    "Go to your Discord server.\n",
    "\n",
    "Send the message \"hello world\" to check for a response.\n",
    "Send \"tell me about my server!\" to get the EC2 metadata."
   ]
  },
  {
   "cell_type": "markdown",
   "metadata": {},
   "source": [
    "6. Document and Submit\n",
    "\n",
    "Step 6.1: Take Screenshots\n",
    "Take a screenshot of the EC2 metadata output in the terminal.\n",
    "Take a screenshot of the bot's response in Discord.\n",
    "\n",
    "Step 6.2: Upload to GitHub\n",
    "Initialize a repository in Cloud9"
   ]
  },
  {
   "cell_type": "code",
   "execution_count": null,
   "metadata": {
    "vscode": {
     "languageId": "powershell"
    }
   },
   "outputs": [],
   "source": [
    "git init"
   ]
  },
  {
   "cell_type": "markdown",
   "metadata": {},
   "source": [
    "Add your files:"
   ]
  },
  {
   "cell_type": "code",
   "execution_count": null,
   "metadata": {
    "vscode": {
     "languageId": "powershell"
    }
   },
   "outputs": [],
   "source": [
    "echo \"TOKEN\" >> .gitignore\n",
    "git add discord_bot.py .gitignore\n",
    "git commit -m \"Initial commit\""
   ]
  },
  {
   "cell_type": "markdown",
   "metadata": {},
   "source": [
    "Push to GitHub"
   ]
  },
  {
   "cell_type": "code",
   "execution_count": null,
   "metadata": {
    "vscode": {
     "languageId": "powershell"
    }
   },
   "outputs": [],
   "source": [
    "git remote add origin YOUR_REPO_URL\n",
    "git push -u origin main"
   ]
  }
 ],
 "metadata": {
  "language_info": {
   "name": "python"
  }
 },
 "nbformat": 4,
 "nbformat_minor": 2
}
