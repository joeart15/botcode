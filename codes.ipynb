{
 "cells": [
  {
   "cell_type": "markdown",
   "metadata": {},
   "source": [
    "1. Set Up Cloud9\n",
    "\n",
    "Step 1.1: Create a Cloud9 Environment\n",
    "Log in to your AWS account and navigate to Cloud9 in the AWS Management Console.\n",
    "Click Create Environment.\n",
    "Name your environment (e.g., \"DiscordBotEnv\").\n",
    "Choose Create a new EC2 instance for environment (direct access):\n",
    "Instance type: t2.micro (free tier eligible).\n",
    "Platform: Amazon Linux 2.\n",
    "\n",
    "Click Next and Create Environment.\n",
    "\n",
    "Step 1.2: Access the Cloud9 Environment\n",
    "Once created, your Cloud9 IDE will open in your browser.\n",
    "This is your coding environment directly connected to an EC2 instance."
   ]
  },
  {
   "cell_type": "markdown",
   "metadata": {},
   "source": [
    "2. Set Up the Environment\n",
    "Step 2.1: Update the Environment\n",
    "Open the terminal in Cloud9 and update the system"
   ]
  },
  {
   "cell_type": "code",
   "execution_count": null,
   "metadata": {
    "vscode": {
     "languageId": "plaintext"
    }
   },
   "outputs": [],
   "source": [
    "sudo yum update -y"
   ]
  }
 ],
 "metadata": {
  "language_info": {
   "name": "python"
  }
 },
 "nbformat": 4,
 "nbformat_minor": 2
}
